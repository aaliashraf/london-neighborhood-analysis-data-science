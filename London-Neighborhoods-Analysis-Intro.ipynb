{
 "cells": [
  {
   "cell_type": "markdown",
   "metadata": {},
   "source": [
    "<h1> Capstone Project - The Battle of London Neighborhood </h1>\n",
    "<h3>              with dense Indian and Pakistani community for Business Problem </h3>"
   ]
  },
  {
   "cell_type": "markdown",
   "metadata": {},
   "source": [
    "## Introduction: Business Problem\n"
   ]
  },
  {
   "cell_type": "markdown",
   "metadata": {},
   "source": [
    "As per 2011 census conductive by the ONS Uk that the population of <strong>Indian and Pakistani community</strong> </br> collectively named as sub-continentials\n",
    "\n",
    "around the <strong>London is about 0.8 million</strong> and from the recent conductive in 2018 by London Govt \n",
    "survey it has been crossed about 1.5 millions .\n",
    "\n",
    "\n",
    "There a lot of community live in London ,we will try to find out the business solution for them.We are particularly \n",
    "interested in areas where a dense population lived related to community and find out the location is suitable for opening a \n",
    "<strong>sub-continential resturent</strong> .\n",
    "\n",
    "\n",
    "There a lot more we could do from our data to point out which type <strong>neighborhood advantages</strong> the community get \n",
    "to lived in an area and find out the best solution available for them."
   ]
  },
  {
   "cell_type": "code",
   "execution_count": null,
   "metadata": {},
   "outputs": [],
   "source": []
  }
 ],
 "metadata": {
  "kernelspec": {
   "display_name": "Python 3.7.4 32-bit",
   "language": "python",
   "name": "python37432bitd36c6a90078e485f856bc2560ae48b93"
  },
  "language_info": {
   "codemirror_mode": {
    "name": "ipython",
    "version": 3
   },
   "file_extension": ".py",
   "mimetype": "text/x-python",
   "name": "python",
   "nbconvert_exporter": "python",
   "pygments_lexer": "ipython3",
   "version": "3.7.4"
  }
 },
 "nbformat": 4,
 "nbformat_minor": 4
}
