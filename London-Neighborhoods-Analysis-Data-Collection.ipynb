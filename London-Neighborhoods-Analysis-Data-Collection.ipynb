{
 "cells": [
  {
   "cell_type": "markdown",
   "metadata": {},
   "source": [
    "<h1> Capstone Project - The Battle of London Neighborhood </h1>\n",
    "<h3>              with dense Indian and Pakistani community for Business Problem </h3>"
   ]
  },
  {
   "cell_type": "markdown",
   "metadata": {},
   "source": [
    "## Data Collection:\n"
   ]
  },
  {
   "cell_type": "markdown",
   "metadata": {},
   "source": [
    "From the intro discussion of our problem ,following factors of data may include in this project:\n",
    "* Population density lived in a borough\n",
    "* Number of sub-continential resturants in a borough,if any\n",
    "* Any other community club or place including indian or pakistani name in neighborhood\n",
    "\n",
    "\n",
    "Following are data sources which will utilized to collect our related data to the project.\n",
    "* Population density of Indian and Pakistani commity according to London Borough is available on **ONS Uk site**\n",
    "* Coordinates : Latitude and Longitude will be get from **Geopy Python Library** \n",
    "* Resturants,Clubs or any other place and their type which include **name** indian or pakistani will be get from **Foursquare     Api**"
   ]
  },
  {
   "cell_type": "code",
   "execution_count": null,
   "metadata": {},
   "outputs": [],
   "source": []
  }
 ],
 "metadata": {
  "kernelspec": {
   "display_name": "Python 3.7.4 32-bit",
   "language": "python",
   "name": "python37432bitd36c6a90078e485f856bc2560ae48b93"
  },
  "language_info": {
   "codemirror_mode": {
    "name": "ipython",
    "version": 3
   },
   "file_extension": ".py",
   "mimetype": "text/x-python",
   "name": "python",
   "nbconvert_exporter": "python",
   "pygments_lexer": "ipython3",
   "version": "3.7.4"
  }
 },
 "nbformat": 4,
 "nbformat_minor": 4
}
